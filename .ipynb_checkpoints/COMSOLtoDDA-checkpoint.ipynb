{
 "cells": [
  {
   "cell_type": "code",
   "execution_count": 37,
   "metadata": {},
   "outputs": [],
   "source": [
    "import numpy as np"
   ]
  },
  {
   "cell_type": "code",
   "execution_count": 38,
   "metadata": {},
   "outputs": [],
   "source": [
    "data=(np.loadtxt('gridandmaterial.txt', skiprows=9)[:, 3:])"
   ]
  },
  {
   "cell_type": "code",
   "execution_count": 39,
   "metadata": {},
   "outputs": [
    {
     "name": "stdout",
     "output_type": "stream",
     "text": [
      "(111537, 4)\n"
     ]
    }
   ],
   "source": [
    "print(data.shape)"
   ]
  },
  {
   "cell_type": "code",
   "execution_count": 40,
   "metadata": {},
   "outputs": [
    {
     "name": "stdout",
     "output_type": "stream",
     "text": [
      "[[ 1.62985244e-16  5.76160026e-16 -3.63756543e-16  0.00000000e+00]\n",
      " [ 1.00000000e+00  0.00000000e+00  0.00000000e+00  0.00000000e+00]\n",
      " [ 2.00000000e+00  0.00000000e+00  0.00000000e+00  0.00000000e+00]\n",
      " ...\n",
      " [ 7.80000000e+01  8.00000000e+01  1.60000000e+01  0.00000000e+00]\n",
      " [ 7.90000000e+01  8.00000000e+01  1.60000000e+01  0.00000000e+00]\n",
      " [ 8.00000000e+01  8.00000000e+01  1.60000000e+01  0.00000000e+00]]\n"
     ]
    }
   ],
   "source": [
    "print(data)"
   ]
  },
  {
   "cell_type": "code",
   "execution_count": 41,
   "metadata": {},
   "outputs": [],
   "source": [
    "Nx=81\n",
    "Ny=81\n",
    "Nz=17\n",
    "length=len(data)\n",
    "grid=[Nx, Ny, Nz, length]\n",
    "material=[]"
   ]
  },
  {
   "cell_type": "code",
   "execution_count": 42,
   "metadata": {},
   "outputs": [],
   "source": [
    "for i in range(length):\n",
    "    grid.append(int(round(data[i][0])))\n",
    "    grid.append(int(round(data[i][1])))\n",
    "    grid.append(int(round(data[i][2])))\n",
    "    material.append(data[i][3])\n",
    "    material.append(data[i][3])\n",
    "    material.append(data[i][3])"
   ]
  },
  {
   "cell_type": "code",
   "execution_count": 43,
   "metadata": {},
   "outputs": [],
   "source": [
    "np.savetxt('grid.txt', grid, fmt='%i')\n",
    "np.savetxt('para.txt', material, fmt='%1.1f')"
   ]
  },
  {
   "cell_type": "code",
   "execution_count": null,
   "metadata": {},
   "outputs": [],
   "source": []
  }
 ],
 "metadata": {
  "kernelspec": {
   "display_name": "Python 3",
   "language": "python",
   "name": "python3"
  },
  "language_info": {
   "codemirror_mode": {
    "name": "ipython",
    "version": 3
   },
   "file_extension": ".py",
   "mimetype": "text/x-python",
   "name": "python",
   "nbconvert_exporter": "python",
   "pygments_lexer": "ipython3",
   "version": "3.7.3"
  }
 },
 "nbformat": 4,
 "nbformat_minor": 2
}
